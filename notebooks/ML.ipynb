{
 "cells": [
  {
   "cell_type": "code",
   "execution_count": 1,
   "metadata": {},
   "outputs": [],
   "source": [
    "# Import necessary libraries\n",
    "import pandas as pd\n",
    "import numpy as np\n",
    "from sklearn.model_selection import train_test_split, GridSearchCV\n",
    "from sklearn.preprocessing import LabelEncoder\n",
    "from sklearn.ensemble import RandomForestRegressor\n",
    "from sklearn.linear_model import LinearRegression\n",
    "from sklearn.tree import DecisionTreeRegressor\n",
    "from sklearn.metrics import mean_absolute_error, mean_squared_error, r2_score\n",
    "import xgboost as xgb\n",
    "import joblib"
   ]
  },
  {
   "cell_type": "markdown",
   "metadata": {},
   "source": [
    "## Load the dataset"
   ]
  },
  {
   "cell_type": "code",
   "execution_count": 2,
   "metadata": {},
   "outputs": [],
   "source": [
    "data_path = \"../data/raw/project_schedule_data.csv\"  # Adjust path if necessary\n",
    "df = pd.read_csv(data_path)"
   ]
  },
  {
   "cell_type": "code",
   "execution_count": 3,
   "metadata": {},
   "outputs": [
    {
     "data": {
      "text/html": [
       "<div>\n",
       "<style scoped>\n",
       "    .dataframe tbody tr th:only-of-type {\n",
       "        vertical-align: middle;\n",
       "    }\n",
       "\n",
       "    .dataframe tbody tr th {\n",
       "        vertical-align: top;\n",
       "    }\n",
       "\n",
       "    .dataframe thead th {\n",
       "        text-align: right;\n",
       "    }\n",
       "</style>\n",
       "<table border=\"1\" class=\"dataframe\">\n",
       "  <thead>\n",
       "    <tr style=\"text-align: right;\">\n",
       "      <th></th>\n",
       "      <th>Task ID</th>\n",
       "      <th>Team Size</th>\n",
       "      <th>Resource Availability</th>\n",
       "      <th>Complexity</th>\n",
       "      <th>Priority</th>\n",
       "      <th>Risk</th>\n",
       "      <th>Environment</th>\n",
       "      <th>Dependencies</th>\n",
       "      <th>Task Duration (Days)</th>\n",
       "      <th>Delay (Days)</th>\n",
       "      <th>Start Date</th>\n",
       "      <th>End Date</th>\n",
       "      <th>Actual End Date</th>\n",
       "    </tr>\n",
       "  </thead>\n",
       "  <tbody>\n",
       "    <tr>\n",
       "      <th>0</th>\n",
       "      <td>T0001</td>\n",
       "      <td>7</td>\n",
       "      <td>0.74</td>\n",
       "      <td>3</td>\n",
       "      <td>9</td>\n",
       "      <td>0.5</td>\n",
       "      <td>Arctic</td>\n",
       "      <td>[]</td>\n",
       "      <td>42</td>\n",
       "      <td>0</td>\n",
       "      <td>23/01/2024</td>\n",
       "      <td>05/03/2024</td>\n",
       "      <td>05/03/2024</td>\n",
       "    </tr>\n",
       "    <tr>\n",
       "      <th>1</th>\n",
       "      <td>T0002</td>\n",
       "      <td>4</td>\n",
       "      <td>0.78</td>\n",
       "      <td>5</td>\n",
       "      <td>5</td>\n",
       "      <td>0.7</td>\n",
       "      <td>Arctic</td>\n",
       "      <td>['T0001']</td>\n",
       "      <td>59</td>\n",
       "      <td>4</td>\n",
       "      <td>05/03/2024</td>\n",
       "      <td>03/05/2024</td>\n",
       "      <td>07/05/2024</td>\n",
       "    </tr>\n",
       "    <tr>\n",
       "      <th>2</th>\n",
       "      <td>T0003</td>\n",
       "      <td>15</td>\n",
       "      <td>0.84</td>\n",
       "      <td>1</td>\n",
       "      <td>1</td>\n",
       "      <td>0.1</td>\n",
       "      <td>Desert</td>\n",
       "      <td>['T0002', 'T0001']</td>\n",
       "      <td>18</td>\n",
       "      <td>0</td>\n",
       "      <td>03/05/2024</td>\n",
       "      <td>21/05/2024</td>\n",
       "      <td>21/05/2024</td>\n",
       "    </tr>\n",
       "    <tr>\n",
       "      <th>3</th>\n",
       "      <td>T0004</td>\n",
       "      <td>4</td>\n",
       "      <td>0.82</td>\n",
       "      <td>4</td>\n",
       "      <td>5</td>\n",
       "      <td>0.9</td>\n",
       "      <td>Onshore</td>\n",
       "      <td>['T0002', 'T0001', 'T0003']</td>\n",
       "      <td>54</td>\n",
       "      <td>4</td>\n",
       "      <td>21/05/2024</td>\n",
       "      <td>14/07/2024</td>\n",
       "      <td>18/07/2024</td>\n",
       "    </tr>\n",
       "    <tr>\n",
       "      <th>4</th>\n",
       "      <td>T0005</td>\n",
       "      <td>9</td>\n",
       "      <td>0.97</td>\n",
       "      <td>2</td>\n",
       "      <td>5</td>\n",
       "      <td>0.3</td>\n",
       "      <td>Onshore</td>\n",
       "      <td>['T0003', 'T0002']</td>\n",
       "      <td>34</td>\n",
       "      <td>0</td>\n",
       "      <td>21/05/2024</td>\n",
       "      <td>24/06/2024</td>\n",
       "      <td>24/06/2024</td>\n",
       "    </tr>\n",
       "  </tbody>\n",
       "</table>\n",
       "</div>"
      ],
      "text/plain": [
       "  Task ID  Team Size  Resource Availability  Complexity  Priority  Risk  \\\n",
       "0   T0001          7                   0.74           3         9   0.5   \n",
       "1   T0002          4                   0.78           5         5   0.7   \n",
       "2   T0003         15                   0.84           1         1   0.1   \n",
       "3   T0004          4                   0.82           4         5   0.9   \n",
       "4   T0005          9                   0.97           2         5   0.3   \n",
       "\n",
       "  Environment                 Dependencies  Task Duration (Days)  \\\n",
       "0      Arctic                           []                    42   \n",
       "1      Arctic                    ['T0001']                    59   \n",
       "2      Desert           ['T0002', 'T0001']                    18   \n",
       "3     Onshore  ['T0002', 'T0001', 'T0003']                    54   \n",
       "4     Onshore           ['T0003', 'T0002']                    34   \n",
       "\n",
       "   Delay (Days)  Start Date    End Date Actual End Date  \n",
       "0             0  23/01/2024  05/03/2024      05/03/2024  \n",
       "1             4  05/03/2024  03/05/2024      07/05/2024  \n",
       "2             0  03/05/2024  21/05/2024      21/05/2024  \n",
       "3             4  21/05/2024  14/07/2024      18/07/2024  \n",
       "4             0  21/05/2024  24/06/2024      24/06/2024  "
      ]
     },
     "execution_count": 3,
     "metadata": {},
     "output_type": "execute_result"
    }
   ],
   "source": [
    "df.head()"
   ]
  },
  {
   "cell_type": "code",
   "execution_count": 4,
   "metadata": {},
   "outputs": [
    {
     "name": "stdout",
     "output_type": "stream",
     "text": [
      "<class 'pandas.core.frame.DataFrame'>\n",
      "RangeIndex: 947 entries, 0 to 946\n",
      "Data columns (total 13 columns):\n",
      " #   Column                 Non-Null Count  Dtype  \n",
      "---  ------                 --------------  -----  \n",
      " 0   Task ID                947 non-null    object \n",
      " 1   Team Size              947 non-null    int64  \n",
      " 2   Resource Availability  947 non-null    float64\n",
      " 3   Complexity             947 non-null    int64  \n",
      " 4   Priority               947 non-null    int64  \n",
      " 5   Risk                   947 non-null    float64\n",
      " 6   Environment            947 non-null    object \n",
      " 7   Dependencies           947 non-null    object \n",
      " 8   Task Duration (Days)   947 non-null    int64  \n",
      " 9   Delay (Days)           947 non-null    int64  \n",
      " 10  Start Date             947 non-null    object \n",
      " 11  End Date               947 non-null    object \n",
      " 12  Actual End Date        947 non-null    object \n",
      "dtypes: float64(2), int64(5), object(6)\n",
      "memory usage: 96.3+ KB\n"
     ]
    }
   ],
   "source": [
    "df.info()"
   ]
  },
  {
   "cell_type": "markdown",
   "metadata": {},
   "source": [
    "## 1. Data Preprocessing"
   ]
  },
  {
   "cell_type": "markdown",
   "metadata": {},
   "source": [
    "### 1.1 Apply Label Encoding to Environment"
   ]
  },
  {
   "cell_type": "code",
   "execution_count": 10,
   "metadata": {},
   "outputs": [
    {
     "data": {
      "text/plain": [
       "array(['Arctic', 'Desert', 'Onshore', 'Offshore'], dtype=object)"
      ]
     },
     "execution_count": 10,
     "metadata": {},
     "output_type": "execute_result"
    }
   ],
   "source": [
    "unique_env = df['Environment'].unique()\n",
    "unique_env"
   ]
  },
  {
   "cell_type": "code",
   "execution_count": 11,
   "metadata": {},
   "outputs": [],
   "source": [
    "le = LabelEncoder()\n",
    "df['Environment'] = le.fit_transform(df['Environment'])"
   ]
  },
  {
   "cell_type": "code",
   "execution_count": 14,
   "metadata": {},
   "outputs": [
    {
     "name": "stdout",
     "output_type": "stream",
     "text": [
      "Arctic: 0\n",
      "Desert: 1\n",
      "Onshore: 3\n",
      "Offshore: 2\n"
     ]
    }
   ],
   "source": [
    "for Environment in unique_env:\n",
    "  print(f\"{Environment}: {le.transform([Environment])[0]}\")"
   ]
  },
  {
   "cell_type": "markdown",
   "metadata": {},
   "source": [
    "### 1.2 Add the number of Dependencies column"
   ]
  },
  {
   "cell_type": "code",
   "execution_count": 5,
   "metadata": {},
   "outputs": [],
   "source": [
    "df['Number of Dependencies'] = df['Dependencies'].apply(lambda x: len(eval(x)) if pd.notna(x) else 0)"
   ]
  },
  {
   "cell_type": "code",
   "execution_count": 6,
   "metadata": {},
   "outputs": [
    {
     "data": {
      "text/html": [
       "<div>\n",
       "<style scoped>\n",
       "    .dataframe tbody tr th:only-of-type {\n",
       "        vertical-align: middle;\n",
       "    }\n",
       "\n",
       "    .dataframe tbody tr th {\n",
       "        vertical-align: top;\n",
       "    }\n",
       "\n",
       "    .dataframe thead th {\n",
       "        text-align: right;\n",
       "    }\n",
       "</style>\n",
       "<table border=\"1\" class=\"dataframe\">\n",
       "  <thead>\n",
       "    <tr style=\"text-align: right;\">\n",
       "      <th></th>\n",
       "      <th>Task ID</th>\n",
       "      <th>Team Size</th>\n",
       "      <th>Resource Availability</th>\n",
       "      <th>Complexity</th>\n",
       "      <th>Priority</th>\n",
       "      <th>Risk</th>\n",
       "      <th>Environment</th>\n",
       "      <th>Dependencies</th>\n",
       "      <th>Task Duration (Days)</th>\n",
       "      <th>Delay (Days)</th>\n",
       "      <th>Start Date</th>\n",
       "      <th>End Date</th>\n",
       "      <th>Actual End Date</th>\n",
       "      <th>Number of Dependencies</th>\n",
       "    </tr>\n",
       "  </thead>\n",
       "  <tbody>\n",
       "    <tr>\n",
       "      <th>0</th>\n",
       "      <td>T0001</td>\n",
       "      <td>7</td>\n",
       "      <td>0.74</td>\n",
       "      <td>3</td>\n",
       "      <td>9</td>\n",
       "      <td>0.5</td>\n",
       "      <td>0</td>\n",
       "      <td>[]</td>\n",
       "      <td>42</td>\n",
       "      <td>0</td>\n",
       "      <td>23/01/2024</td>\n",
       "      <td>05/03/2024</td>\n",
       "      <td>05/03/2024</td>\n",
       "      <td>0</td>\n",
       "    </tr>\n",
       "    <tr>\n",
       "      <th>1</th>\n",
       "      <td>T0002</td>\n",
       "      <td>4</td>\n",
       "      <td>0.78</td>\n",
       "      <td>5</td>\n",
       "      <td>5</td>\n",
       "      <td>0.7</td>\n",
       "      <td>0</td>\n",
       "      <td>['T0001']</td>\n",
       "      <td>59</td>\n",
       "      <td>4</td>\n",
       "      <td>05/03/2024</td>\n",
       "      <td>03/05/2024</td>\n",
       "      <td>07/05/2024</td>\n",
       "      <td>1</td>\n",
       "    </tr>\n",
       "    <tr>\n",
       "      <th>2</th>\n",
       "      <td>T0003</td>\n",
       "      <td>15</td>\n",
       "      <td>0.84</td>\n",
       "      <td>1</td>\n",
       "      <td>1</td>\n",
       "      <td>0.1</td>\n",
       "      <td>1</td>\n",
       "      <td>['T0002', 'T0001']</td>\n",
       "      <td>18</td>\n",
       "      <td>0</td>\n",
       "      <td>03/05/2024</td>\n",
       "      <td>21/05/2024</td>\n",
       "      <td>21/05/2024</td>\n",
       "      <td>2</td>\n",
       "    </tr>\n",
       "    <tr>\n",
       "      <th>3</th>\n",
       "      <td>T0004</td>\n",
       "      <td>4</td>\n",
       "      <td>0.82</td>\n",
       "      <td>4</td>\n",
       "      <td>5</td>\n",
       "      <td>0.9</td>\n",
       "      <td>3</td>\n",
       "      <td>['T0002', 'T0001', 'T0003']</td>\n",
       "      <td>54</td>\n",
       "      <td>4</td>\n",
       "      <td>21/05/2024</td>\n",
       "      <td>14/07/2024</td>\n",
       "      <td>18/07/2024</td>\n",
       "      <td>3</td>\n",
       "    </tr>\n",
       "    <tr>\n",
       "      <th>4</th>\n",
       "      <td>T0005</td>\n",
       "      <td>9</td>\n",
       "      <td>0.97</td>\n",
       "      <td>2</td>\n",
       "      <td>5</td>\n",
       "      <td>0.3</td>\n",
       "      <td>3</td>\n",
       "      <td>['T0003', 'T0002']</td>\n",
       "      <td>34</td>\n",
       "      <td>0</td>\n",
       "      <td>21/05/2024</td>\n",
       "      <td>24/06/2024</td>\n",
       "      <td>24/06/2024</td>\n",
       "      <td>2</td>\n",
       "    </tr>\n",
       "  </tbody>\n",
       "</table>\n",
       "</div>"
      ],
      "text/plain": [
       "  Task ID  Team Size  Resource Availability  Complexity  Priority  Risk  \\\n",
       "0   T0001          7                   0.74           3         9   0.5   \n",
       "1   T0002          4                   0.78           5         5   0.7   \n",
       "2   T0003         15                   0.84           1         1   0.1   \n",
       "3   T0004          4                   0.82           4         5   0.9   \n",
       "4   T0005          9                   0.97           2         5   0.3   \n",
       "\n",
       "   Environment                 Dependencies  Task Duration (Days)  \\\n",
       "0            0                           []                    42   \n",
       "1            0                    ['T0001']                    59   \n",
       "2            1           ['T0002', 'T0001']                    18   \n",
       "3            3  ['T0002', 'T0001', 'T0003']                    54   \n",
       "4            3           ['T0003', 'T0002']                    34   \n",
       "\n",
       "   Delay (Days)  Start Date    End Date Actual End Date  \\\n",
       "0             0  23/01/2024  05/03/2024      05/03/2024   \n",
       "1             4  05/03/2024  03/05/2024      07/05/2024   \n",
       "2             0  03/05/2024  21/05/2024      21/05/2024   \n",
       "3             4  21/05/2024  14/07/2024      18/07/2024   \n",
       "4             0  21/05/2024  24/06/2024      24/06/2024   \n",
       "\n",
       "   Number of Dependencies  \n",
       "0                       0  \n",
       "1                       1  \n",
       "2                       2  \n",
       "3                       3  \n",
       "4                       2  "
      ]
     },
     "execution_count": 6,
     "metadata": {},
     "output_type": "execute_result"
    }
   ],
   "source": [
    "df.head()"
   ]
  },
  {
   "cell_type": "markdown",
   "metadata": {},
   "source": [
    "### 1.3 Add the total task duration column"
   ]
  },
  {
   "cell_type": "code",
   "execution_count": 7,
   "metadata": {},
   "outputs": [],
   "source": [
    "df['Total Task Duration'] = df['Task Duration (Days)'] + df['Delay (Days)']"
   ]
  },
  {
   "cell_type": "markdown",
   "metadata": {},
   "source": [
    "## 2. Data Preparing"
   ]
  },
  {
   "cell_type": "code",
   "execution_count": 8,
   "metadata": {},
   "outputs": [],
   "source": [
    "# Drop unnecessary columns for model training\n",
    "df = df.drop(columns=['Task ID', 'Dependencies', 'Start Date', 'End Date', 'Actual End Date'])"
   ]
  },
  {
   "cell_type": "code",
   "execution_count": 9,
   "metadata": {},
   "outputs": [],
   "source": [
    "# Features and target\n",
    "X = df[['Team Size', 'Resource Availability', 'Complexity', 'Priority', 'Risk', 'Environment', 'Number of Dependencies']]\n",
    "y = df['Total Task Duration']"
   ]
  },
  {
   "cell_type": "code",
   "execution_count": 11,
   "metadata": {},
   "outputs": [],
   "source": [
    "# Split the data\n",
    "X_train, X_test, y_train, y_test = train_test_split(X, y, test_size=0.2, random_state=42)"
   ]
  },
  {
   "cell_type": "markdown",
   "metadata": {},
   "source": [
    "## 3. Model Training"
   ]
  },
  {
   "cell_type": "markdown",
   "metadata": {},
   "source": [
    "### Initialize models"
   ]
  },
  {
   "cell_type": "code",
   "execution_count": 30,
   "metadata": {},
   "outputs": [],
   "source": [
    "models = {\n",
    "    \"Linear Regression\": LinearRegression(),\n",
    "    \"Decision Tree\": DecisionTreeRegressor(random_state=42),\n",
    "    \"Random Forest\": RandomForestRegressor(random_state=42,max_depth=30),\n",
    "    \"XGBoost\": xgb.XGBRegressor(random_state=42, objective='reg:squarederror')\n",
    "}"
   ]
  },
  {
   "cell_type": "markdown",
   "metadata": {},
   "source": [
    "### Train and evaluate each model"
   ]
  },
  {
   "cell_type": "code",
   "execution_count": 31,
   "metadata": {},
   "outputs": [],
   "source": [
    "results = []\n",
    "for name, model in models.items():\n",
    "    model.fit(X_train, y_train)\n",
    "    y_pred = model.predict(X_test)\n",
    "    \n",
    "    # Evaluation metrics\n",
    "    mae = mean_absolute_error(y_test, y_pred)\n",
    "    mse = mean_squared_error(y_test, y_pred)\n",
    "    rmse = np.sqrt(mse)\n",
    "    r2 = r2_score(y_test, y_pred)\n",
    "    \n",
    "    results.append({\"Model\": name, \"MAE\": mae, \"RMSE\": rmse, \"R2\": r2})"
   ]
  },
  {
   "cell_type": "markdown",
   "metadata": {},
   "source": [
    "### Create a DataFrame for results"
   ]
  },
  {
   "cell_type": "code",
   "execution_count": 32,
   "metadata": {},
   "outputs": [
    {
     "name": "stdout",
     "output_type": "stream",
     "text": [
      "Model Performance Comparison:\n",
      "               Model       MAE      RMSE        R2\n",
      "0  Linear Regression  5.099952  6.375595  0.856657\n",
      "1      Decision Tree  7.084211  8.632863  0.737189\n",
      "2      Random Forest  5.694762  6.966910  0.828835\n",
      "3            XGBoost  5.936469  7.393821  0.807215\n"
     ]
    }
   ],
   "source": [
    "results_df = pd.DataFrame(results)\n",
    "print(\"Model Performance Comparison:\")\n",
    "print(results_df)"
   ]
  },
  {
   "cell_type": "markdown",
   "metadata": {},
   "source": [
    "n_estimators: [50, 100]\n",
    "\n",
    "max_depth: [10, 20]\n",
    "\n",
    "number of combination = 2 * 2 = 4\n",
    "\n",
    "combination_1 = {n_estimators:50, max_depth:10}\n",
    "\n",
    "combination_2 = {n_estimators:50, max_depth:20}\n",
    "\n",
    "combination_3 = {n_estimators:100, max_depth:10}\n",
    "\n",
    "combination_4 = {n_estimators:100, max_depth:20}"
   ]
  },
  {
   "cell_type": "markdown",
   "metadata": {},
   "source": [
    "### Hyperparameter Tuning for the best model"
   ]
  },
  {
   "cell_type": "code",
   "execution_count": 39,
   "metadata": {},
   "outputs": [
    {
     "name": "stdout",
     "output_type": "stream",
     "text": [
      "Fitting 3 folds for each of 2 candidates, totalling 6 fits\n",
      "Best parameters for Linear Regression: {'fit_intercept': True}\n",
      "Best Linear Regression Performance:\n",
      "MAE: 5.10, RMSE: 6.38, R2: 0.86\n"
     ]
    }
   ],
   "source": [
    "best_model_name = results_df.loc[results_df['R2'].idxmax(), 'Model']\n",
    "if best_model_name == \"Random Forest\":\n",
    "    param_grid = {\n",
    "        \"n_estimators\": [50, 100, 150],\n",
    "        \"max_depth\": [None, 10, 20, 30],\n",
    "        \"min_samples_split\": [2, 5, 10]\n",
    "    }\n",
    "    grid_search = GridSearchCV(RandomForestRegressor(random_state=42), param_grid, cv=3, scoring='r2', verbose=1)\n",
    "\n",
    "elif best_model_name == \"Linear Regression\":\n",
    "    param_grid = {\n",
    "        \"fit_intercept\": [True, False],\n",
    "    }\n",
    "    grid_search = GridSearchCV(LinearRegression(), param_grid, cv=3, scoring='r2', verbose=1)\n",
    "\n",
    "grid_search.fit(X_train, y_train)\n",
    "best_model = grid_search.best_estimator_\n",
    "print(f\"Best parameters for {best_model_name}: {grid_search.best_params_}\")\n",
    "\n",
    "# Evaluate the best model\n",
    "y_pred_best = best_model.predict(X_test)\n",
    "final_mae = mean_absolute_error(y_test, y_pred_best)\n",
    "final_rmse = np.sqrt(mean_squared_error(y_test, y_pred_best))\n",
    "final_r2 = r2_score(y_test, y_pred_best)\n",
    "\n",
    "print(f\"Best {best_model_name} Performance:\")\n",
    "print(f\"MAE: {final_mae:.2f}, RMSE: {final_rmse:.2f}, R2: {final_r2:.2f}\")"
   ]
  },
  {
   "cell_type": "code",
   "execution_count": 40,
   "metadata": {},
   "outputs": [],
   "source": [
    "# Save the results\n",
    "results_df.to_csv(\"../models/model_comparison.csv\", index=False)"
   ]
  },
  {
   "cell_type": "markdown",
   "metadata": {},
   "source": [
    "### Save the best model"
   ]
  },
  {
   "cell_type": "code",
   "execution_count": 35,
   "metadata": {},
   "outputs": [
    {
     "name": "stdout",
     "output_type": "stream",
     "text": [
      "Best model saved at ../models/best_model.pkl\n"
     ]
    }
   ],
   "source": [
    "model_save_path = \"../models/best_model.pkl\"  # Define the save path\n",
    "joblib.dump(best_model, model_save_path)\n",
    "print(f\"Best model saved at {model_save_path}\")"
   ]
  }
 ],
 "metadata": {
  "kernelspec": {
   "display_name": "timeline",
   "language": "python",
   "name": "python3"
  },
  "language_info": {
   "codemirror_mode": {
    "name": "ipython",
    "version": 3
   },
   "file_extension": ".py",
   "mimetype": "text/x-python",
   "name": "python",
   "nbconvert_exporter": "python",
   "pygments_lexer": "ipython3",
   "version": "3.10.15"
  }
 },
 "nbformat": 4,
 "nbformat_minor": 2
}
